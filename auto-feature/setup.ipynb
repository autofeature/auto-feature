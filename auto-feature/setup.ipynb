{
 "cells": [
  {
   "cell_type": "code",
   "execution_count": null,
   "metadata": {},
   "outputs": [],
   "source": [
    "from setuptools import setup, find_packages\n",
    "\n",
    "with open(\"README.md\", \"r\") as readme_file:\n",
    "    readme = readme_file.read()\n",
    "\n",
    "requirements = [\"math\", \"sys\", \"time\"]\n",
    "\n",
    "setup(\n",
    "    name=\"notebookc\",\n",
    "    version=\"0.0.1\",\n",
    "    author=\"Tariq Haque\",\n",
    "    author_email=\"tarique.haq@gmail.com\",\n",
    "    description=\"A package for automated feature engineering\",\n",
    "    long_description=readme,\n",
    "    long_description_content_type=\"text/markdown\",\n",
    "    url=\"https://github.com/auto-feature/homepage/\",\n",
    "    packages=find_packages(),\n",
    "    install_requires=requirements,\n",
    "    classifiers=[\n",
    "        \"Programming Language :: Python :: 3.7\",\n",
    "        \"License :: OSI Approved :: GNU General Public License v3 (GPLv3)\",\n",
    "    ],\n",
    ")"
   ]
  }
 ],
 "metadata": {
  "kernelspec": {
   "display_name": "Python 3",
   "language": "python",
   "name": "python3"
  },
  "language_info": {
   "codemirror_mode": {
    "name": "ipython",
    "version": 3
   },
   "file_extension": ".py",
   "mimetype": "text/x-python",
   "name": "python",
   "nbconvert_exporter": "python",
   "pygments_lexer": "ipython3",
   "version": "3.7.3"
  }
 },
 "nbformat": 4,
 "nbformat_minor": 2
}
